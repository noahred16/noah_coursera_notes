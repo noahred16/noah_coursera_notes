{
 "cells": [
  {
   "cell_type": "code",
   "execution_count": 5,
   "metadata": {},
   "outputs": [
    {
     "name": "stdout",
     "output_type": "stream",
     "text": [
      "x1 =  0.000200000000000000\n",
      "x2 =  0.000199999999999978\n"
     ]
    }
   ],
   "source": [
    "x1 = 2.0 / 10000\n",
    "print(f\"x1 = {x1: .18f}\") # x1 = 0.0002\n",
    "x2 = 1 + (1/10000) - (1 - (1/10000))\n",
    "print(f\"x2 = {x2: .18f}\") # x2 = 0.0002"
   ]
  },
  {
   "cell_type": "code",
   "execution_count": null,
   "metadata": {},
   "outputs": [],
   "source": []
  }
 ],
 "metadata": {
  "kernelspec": {
   "display_name": "Python 3",
   "language": "python",
   "name": "python3"
  },
  "language_info": {
   "codemirror_mode": {
    "name": "ipython",
    "version": 3
   },
   "file_extension": ".py",
   "mimetype": "text/x-python",
   "name": "python",
   "nbconvert_exporter": "python",
   "pygments_lexer": "ipython3",
   "version": "3.8.10"
  },
  "orig_nbformat": 4
 },
 "nbformat": 4,
 "nbformat_minor": 2
}
